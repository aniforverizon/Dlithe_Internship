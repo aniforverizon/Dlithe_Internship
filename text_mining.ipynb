{
 "cells": [
  {
   "cell_type": "code",
   "execution_count": 65,
   "metadata": {
    "scrolled": false
   },
   "outputs": [
    {
     "data": {
      "text/html": [
       "<div>\n",
       "<style scoped>\n",
       "    .dataframe tbody tr th:only-of-type {\n",
       "        vertical-align: middle;\n",
       "    }\n",
       "\n",
       "    .dataframe tbody tr th {\n",
       "        vertical-align: top;\n",
       "    }\n",
       "\n",
       "    .dataframe thead th {\n",
       "        text-align: right;\n",
       "    }\n",
       "</style>\n",
       "<table border=\"1\" class=\"dataframe\">\n",
       "  <thead>\n",
       "    <tr style=\"text-align: right;\">\n",
       "      <th></th>\n",
       "      <th>lang</th>\n",
       "      <th>matn</th>\n",
       "    </tr>\n",
       "  </thead>\n",
       "  <tbody>\n",
       "    <tr>\n",
       "      <th>0</th>\n",
       "      <td>english</td>\n",
       "      <td>'Data mining has been defined as the nontrivi...</td>\n",
       "    </tr>\n",
       "    <tr>\n",
       "      <th>1</th>\n",
       "      <td>english</td>\n",
       "      <td>'An example of data mining often called the M...</td>\n",
       "    </tr>\n",
       "    <tr>\n",
       "      <th>2</th>\n",
       "      <td>english</td>\n",
       "      <td>'If a clothing store records the purchases of...</td>\n",
       "    </tr>\n",
       "    <tr>\n",
       "      <th>3</th>\n",
       "      <td>english</td>\n",
       "      <td>'The example deals with association rules wit...</td>\n",
       "    </tr>\n",
       "    <tr>\n",
       "      <th>4</th>\n",
       "      <td>english</td>\n",
       "      <td>'Not all data is transaction based and logica...</td>\n",
       "    </tr>\n",
       "    <tr>\n",
       "      <th>5</th>\n",
       "      <td>english</td>\n",
       "      <td>'In a manufacturing application an inexact ru...</td>\n",
       "    </tr>\n",
       "    <tr>\n",
       "      <th>6</th>\n",
       "      <td>english</td>\n",
       "      <td>'Data mining involves sorting through large a...</td>\n",
       "    </tr>\n",
       "    <tr>\n",
       "      <th>7</th>\n",
       "      <td>english</td>\n",
       "      <td>'It is usually used by businesses intelligenc...</td>\n",
       "    </tr>\n",
       "    <tr>\n",
       "      <th>8</th>\n",
       "      <td>english</td>\n",
       "      <td>'Metadata or data about a given data set are ...</td>\n",
       "    </tr>\n",
       "    <tr>\n",
       "      <th>9</th>\n",
       "      <td>english</td>\n",
       "      <td>'Common examples include executive summaries ...</td>\n",
       "    </tr>\n",
       "    <tr>\n",
       "      <th>10</th>\n",
       "      <td>english</td>\n",
       "      <td>'Although data mining is a relatively new ter...</td>\n",
       "    </tr>\n",
       "    <tr>\n",
       "      <th>11</th>\n",
       "      <td>english</td>\n",
       "      <td>'Companies for a long time have used powerful...</td>\n",
       "    </tr>\n",
       "    <tr>\n",
       "      <th>12</th>\n",
       "      <td>english</td>\n",
       "      <td>'Continuous innovations in computer processin...</td>\n",
       "    </tr>\n",
       "    <tr>\n",
       "      <th>13</th>\n",
       "      <td>english</td>\n",
       "      <td>'Data mining identifies trends within data th...</td>\n",
       "    </tr>\n",
       "    <tr>\n",
       "      <th>14</th>\n",
       "      <td>english</td>\n",
       "      <td>'Through the use of sophisticated algorithms ...</td>\n",
       "    </tr>\n",
       "    <tr>\n",
       "      <th>15</th>\n",
       "      <td>english</td>\n",
       "      <td>'The term data mining is often used to apply ...</td>\n",
       "    </tr>\n",
       "    <tr>\n",
       "      <th>16</th>\n",
       "      <td>english</td>\n",
       "      <td>'Knowledge discovery provides explicit inform...</td>\n",
       "    </tr>\n",
       "    <tr>\n",
       "      <th>17</th>\n",
       "      <td>english</td>\n",
       "      <td>'Forecasting or predictive modeling provides ...</td>\n",
       "    </tr>\n",
       "    <tr>\n",
       "      <th>18</th>\n",
       "      <td>english</td>\n",
       "      <td>'Moreover some data mining systems such as ne...</td>\n",
       "    </tr>\n",
       "    <tr>\n",
       "      <th>19</th>\n",
       "      <td>english</td>\n",
       "      <td>'The term data mining is often used incorrect...</td>\n",
       "    </tr>\n",
       "    <tr>\n",
       "      <th>20</th>\n",
       "      <td>english</td>\n",
       "      <td>'In many cases applications may claim to perf...</td>\n",
       "    </tr>\n",
       "    <tr>\n",
       "      <th>21</th>\n",
       "      <td>english</td>\n",
       "      <td>'Although this information may be useful and ...</td>\n",
       "    </tr>\n",
       "    <tr>\n",
       "      <th>22</th>\n",
       "      <td>english</td>\n",
       "      <td>'Instead it relies on templates or pre-define...</td>\n",
       "    </tr>\n",
       "    <tr>\n",
       "      <th>23</th>\n",
       "      <td>english</td>\n",
       "      <td>'A key defining factor for true data mining i...</td>\n",
       "    </tr>\n",
       "    <tr>\n",
       "      <th>24</th>\n",
       "      <td>english</td>\n",
       "      <td>'In almost all cases this analysis is guided ...</td>\n",
       "    </tr>\n",
       "    <tr>\n",
       "      <th>25</th>\n",
       "      <td>english</td>\n",
       "      <td>'Applications that are not to some degree sel...</td>\n",
       "    </tr>\n",
       "    <tr>\n",
       "      <th>26</th>\n",
       "      <td>english</td>\n",
       "      <td>'Although the term data mining is usually use...</td>\n",
       "    </tr>\n",
       "    <tr>\n",
       "      <th>27</th>\n",
       "      <td>english</td>\n",
       "      <td>'Unlike data analysis data mining is not base...</td>\n",
       "    </tr>\n",
       "    <tr>\n",
       "      <th>28</th>\n",
       "      <td>english</td>\n",
       "      <td>'A promising application of Knowledge discove...</td>\n",
       "    </tr>\n",
       "    <tr>\n",
       "      <th>29</th>\n",
       "      <td>english</td>\n",
       "      <td>'Usually the knowledge obtained from existing...</td>\n",
       "    </tr>\n",
       "    <tr>\n",
       "      <th>...</th>\n",
       "      <td>...</td>\n",
       "      <td>...</td>\n",
       "    </tr>\n",
       "    <tr>\n",
       "      <th>159</th>\n",
       "      <td>german</td>\n",
       "      <td>'Der Data-Mining-Prozess umfasst somit ausgeh...</td>\n",
       "    </tr>\n",
       "    <tr>\n",
       "      <th>160</th>\n",
       "      <td>german</td>\n",
       "      <td>'HUKEMANN unterteilt diesen Prozess in Anlehn...</td>\n",
       "    </tr>\n",
       "    <tr>\n",
       "      <th>161</th>\n",
       "      <td>german</td>\n",
       "      <td>'Da der Data-Mining-Prozess auf der sigmatisc...</td>\n",
       "    </tr>\n",
       "    <tr>\n",
       "      <th>162</th>\n",
       "      <td>german</td>\n",
       "      <td>'Während in der Phase der Mustererkennung die...</td>\n",
       "    </tr>\n",
       "    <tr>\n",
       "      <th>163</th>\n",
       "      <td>german</td>\n",
       "      <td>'Die hierbei zugrunde liegenden Gütefunktione...</td>\n",
       "    </tr>\n",
       "    <tr>\n",
       "      <th>164</th>\n",
       "      <td>german</td>\n",
       "      <td>'Die Annahme dass für eine beliebige Frageste...</td>\n",
       "    </tr>\n",
       "    <tr>\n",
       "      <th>165</th>\n",
       "      <td>german</td>\n",
       "      <td>'In der Praxis scheitert dieser Prozess regel...</td>\n",
       "    </tr>\n",
       "    <tr>\n",
       "      <th>166</th>\n",
       "      <td>german</td>\n",
       "      <td>'So verweisen HIPPNER und WILDE darauf dass d...</td>\n",
       "    </tr>\n",
       "    <tr>\n",
       "      <th>167</th>\n",
       "      <td>german</td>\n",
       "      <td>'BERRY und LINOFF verzichten vollständig auf ...</td>\n",
       "    </tr>\n",
       "    <tr>\n",
       "      <th>168</th>\n",
       "      <td>german</td>\n",
       "      <td>'Im Folgenden wird der Data-Mining-Prozess in...</td>\n",
       "    </tr>\n",
       "    <tr>\n",
       "      <th>169</th>\n",
       "      <td>german</td>\n",
       "      <td>'Klassifikationsverfahren konstruieren Modell...</td>\n",
       "    </tr>\n",
       "    <tr>\n",
       "      <th>170</th>\n",
       "      <td>german</td>\n",
       "      <td>' Durch diese Zuordnung kann das Objekt mit d...</td>\n",
       "    </tr>\n",
       "    <tr>\n",
       "      <th>171</th>\n",
       "      <td>german</td>\n",
       "      <td>' Zum Aufstellen eines mathematischen Modells...</td>\n",
       "    </tr>\n",
       "    <tr>\n",
       "      <th>172</th>\n",
       "      <td>german</td>\n",
       "      <td>' Mathematische Methoden die für das Aufstell...</td>\n",
       "    </tr>\n",
       "    <tr>\n",
       "      <th>173</th>\n",
       "      <td>german</td>\n",
       "      <td>'Symbolische Lernverfahren beispielsweise Ent...</td>\n",
       "    </tr>\n",
       "    <tr>\n",
       "      <th>174</th>\n",
       "      <td>german</td>\n",
       "      <td>'Subsymbolische Verfahren wie Künstliche Neur...</td>\n",
       "    </tr>\n",
       "    <tr>\n",
       "      <th>175</th>\n",
       "      <td>german</td>\n",
       "      <td>'Die Selektion erfolgt in zwei Schritten: Im ...</td>\n",
       "    </tr>\n",
       "    <tr>\n",
       "      <th>176</th>\n",
       "      <td>german</td>\n",
       "      <td>'Die relevanten Attribute werden im Zuge der ...</td>\n",
       "    </tr>\n",
       "    <tr>\n",
       "      <th>177</th>\n",
       "      <td>german</td>\n",
       "      <td>'Ist der richtigeAggregationsgrad der Daten i...</td>\n",
       "    </tr>\n",
       "    <tr>\n",
       "      <th>178</th>\n",
       "      <td>german</td>\n",
       "      <td>' Anschließend werden die Daten aus den Syste...</td>\n",
       "    </tr>\n",
       "    <tr>\n",
       "      <th>179</th>\n",
       "      <td>german</td>\n",
       "      <td>'Verfügbare Metadaten sollten für die Auflösu...</td>\n",
       "    </tr>\n",
       "    <tr>\n",
       "      <th>180</th>\n",
       "      <td>german</td>\n",
       "      <td>' Die Qualität und Quantität der ermittelten ...</td>\n",
       "    </tr>\n",
       "    <tr>\n",
       "      <th>181</th>\n",
       "      <td>german</td>\n",
       "      <td>' Domänenspezifisches Wissen über potenzielle...</td>\n",
       "    </tr>\n",
       "    <tr>\n",
       "      <th>182</th>\n",
       "      <td>german</td>\n",
       "      <td>' Rechtliche Restriktionen (insbesondere zum ...</td>\n",
       "    </tr>\n",
       "    <tr>\n",
       "      <th>183</th>\n",
       "      <td>german</td>\n",
       "      <td>' Nachdem die Daten erfolgreich aus den jewei...</td>\n",
       "    </tr>\n",
       "    <tr>\n",
       "      <th>184</th>\n",
       "      <td>german</td>\n",
       "      <td>' Die ideale Anwendungsumgebung stellt alle b...</td>\n",
       "    </tr>\n",
       "    <tr>\n",
       "      <th>185</th>\n",
       "      <td>german</td>\n",
       "      <td>' In der Praxis ist dies jedoch regelmäßig ni...</td>\n",
       "    </tr>\n",
       "    <tr>\n",
       "      <th>186</th>\n",
       "      <td>german</td>\n",
       "      <td>' Relevante Daten liegen meist zerstreut in d...</td>\n",
       "    </tr>\n",
       "    <tr>\n",
       "      <th>187</th>\n",
       "      <td>german</td>\n",
       "      <td>' Benötigte Daten werden teilweise gar nicht ...</td>\n",
       "    </tr>\n",
       "    <tr>\n",
       "      <th>188</th>\n",
       "      <td>german</td>\n",
       "      <td>' Grundsätzlich sollten neben den verschieden...</td>\n",
       "    </tr>\n",
       "  </tbody>\n",
       "</table>\n",
       "<p>189 rows × 2 columns</p>\n",
       "</div>"
      ],
      "text/plain": [
       "        lang                                               matn\n",
       "0    english   'Data mining has been defined as the nontrivi...\n",
       "1    english   'An example of data mining often called the M...\n",
       "2    english   'If a clothing store records the purchases of...\n",
       "3    english   'The example deals with association rules wit...\n",
       "4    english   'Not all data is transaction based and logica...\n",
       "5    english   'In a manufacturing application an inexact ru...\n",
       "6    english   'Data mining involves sorting through large a...\n",
       "7    english   'It is usually used by businesses intelligenc...\n",
       "8    english   'Metadata or data about a given data set are ...\n",
       "9    english   'Common examples include executive summaries ...\n",
       "10   english   'Although data mining is a relatively new ter...\n",
       "11   english   'Companies for a long time have used powerful...\n",
       "12   english   'Continuous innovations in computer processin...\n",
       "13   english   'Data mining identifies trends within data th...\n",
       "14   english   'Through the use of sophisticated algorithms ...\n",
       "15   english   'The term data mining is often used to apply ...\n",
       "16   english   'Knowledge discovery provides explicit inform...\n",
       "17   english   'Forecasting or predictive modeling provides ...\n",
       "18   english   'Moreover some data mining systems such as ne...\n",
       "19   english   'The term data mining is often used incorrect...\n",
       "20   english   'In many cases applications may claim to perf...\n",
       "21   english   'Although this information may be useful and ...\n",
       "22   english   'Instead it relies on templates or pre-define...\n",
       "23   english   'A key defining factor for true data mining i...\n",
       "24   english   'In almost all cases this analysis is guided ...\n",
       "25   english   'Applications that are not to some degree sel...\n",
       "26   english   'Although the term data mining is usually use...\n",
       "27   english   'Unlike data analysis data mining is not base...\n",
       "28   english   'A promising application of Knowledge discove...\n",
       "29   english   'Usually the knowledge obtained from existing...\n",
       "..       ...                                                ...\n",
       "159   german   'Der Data-Mining-Prozess umfasst somit ausgeh...\n",
       "160   german   'HUKEMANN unterteilt diesen Prozess in Anlehn...\n",
       "161   german   'Da der Data-Mining-Prozess auf der sigmatisc...\n",
       "162   german   'Während in der Phase der Mustererkennung die...\n",
       "163   german   'Die hierbei zugrunde liegenden Gütefunktione...\n",
       "164   german   'Die Annahme dass für eine beliebige Frageste...\n",
       "165   german   'In der Praxis scheitert dieser Prozess regel...\n",
       "166   german   'So verweisen HIPPNER und WILDE darauf dass d...\n",
       "167   german   'BERRY und LINOFF verzichten vollständig auf ...\n",
       "168   german   'Im Folgenden wird der Data-Mining-Prozess in...\n",
       "169   german   'Klassifikationsverfahren konstruieren Modell...\n",
       "170   german   ' Durch diese Zuordnung kann das Objekt mit d...\n",
       "171   german   ' Zum Aufstellen eines mathematischen Modells...\n",
       "172   german   ' Mathematische Methoden die für das Aufstell...\n",
       "173   german   'Symbolische Lernverfahren beispielsweise Ent...\n",
       "174   german   'Subsymbolische Verfahren wie Künstliche Neur...\n",
       "175   german   'Die Selektion erfolgt in zwei Schritten: Im ...\n",
       "176   german   'Die relevanten Attribute werden im Zuge der ...\n",
       "177   german   'Ist der richtigeAggregationsgrad der Daten i...\n",
       "178   german   ' Anschließend werden die Daten aus den Syste...\n",
       "179   german   'Verfügbare Metadaten sollten für die Auflösu...\n",
       "180   german   ' Die Qualität und Quantität der ermittelten ...\n",
       "181   german   ' Domänenspezifisches Wissen über potenzielle...\n",
       "182   german   ' Rechtliche Restriktionen (insbesondere zum ...\n",
       "183   german   ' Nachdem die Daten erfolgreich aus den jewei...\n",
       "184   german   ' Die ideale Anwendungsumgebung stellt alle b...\n",
       "185   german   ' In der Praxis ist dies jedoch regelmäßig ni...\n",
       "186   german   ' Relevante Daten liegen meist zerstreut in d...\n",
       "187   german   ' Benötigte Daten werden teilweise gar nicht ...\n",
       "188   german   ' Grundsätzlich sollten neben den verschieden...\n",
       "\n",
       "[189 rows x 2 columns]"
      ]
     },
     "execution_count": 65,
     "metadata": {},
     "output_type": "execute_result"
    }
   ],
   "source": [
    "import pandas as pd\n",
    "import numpy as np\n",
    "data = pd.read_csv('csvdata.csv')\n",
    "data"
   ]
  },
  {
   "cell_type": "code",
   "execution_count": 3,
   "metadata": {},
   "outputs": [
    {
     "data": {
      "text/plain": [
       "(189, 2)"
      ]
     },
     "execution_count": 3,
     "metadata": {},
     "output_type": "execute_result"
    }
   ],
   "source": [
    "data.shape"
   ]
  },
  {
   "cell_type": "code",
   "execution_count": 77,
   "metadata": {},
   "outputs": [],
   "source": [
    "#import matplotlib.pyplot as plt\n",
    "#fig = plt.figure(figsize=(6,5))\n",
    "#data.groupby('lang').matn.count().plot.bar(color ='purple',ylim=0)\n",
    "#plt.show()"
   ]
  },
  {
   "cell_type": "markdown",
   "metadata": {},
   "source": [
    "# String to Vector"
   ]
  },
  {
   "cell_type": "code",
   "execution_count": 100,
   "metadata": {},
   "outputs": [
    {
     "data": {
      "text/plain": [
       "(189, 37)"
      ]
     },
     "execution_count": 100,
     "metadata": {},
     "output_type": "execute_result"
    }
   ],
   "source": [
    "from sklearn.feature_extraction.text import TfidfVectorizer\n",
    "#term frequency–inverse document frequency\n",
    "#TF_idF ==> weighting the words by their times of appearence\n",
    "tfidf = TfidfVectorizer(sublinear_tf=True, min_df=8, norm='l2',encoding='utf-8',stop_words=['a','in','the','is','for','à','de','des','un','le','la','ou','et','en','el','y','los','que','las','an','so','das','die','der','und','je'])\n",
    "features = tfidf.fit_transform(data.matn).toarray()\n",
    "labels = data.lang\n",
    "features.shape"
   ]
  },
  {
   "cell_type": "markdown",
   "metadata": {},
   "source": [
    "# I) Nearest  Neighbors"
   ]
  },
  {
   "cell_type": "code",
   "execution_count": 101,
   "metadata": {},
   "outputs": [
    {
     "data": {
      "text/plain": [
       "KNeighborsClassifier(algorithm='auto', leaf_size=30, metric='minkowski',\n",
       "           metric_params=None, n_jobs=None, n_neighbors=6, p=2,\n",
       "           weights='uniform')"
      ]
     },
     "execution_count": 101,
     "metadata": {},
     "output_type": "execute_result"
    }
   ],
   "source": [
    "from sklearn.neighbors import KNeighborsClassifier\n",
    "knn=KNeighborsClassifier(n_neighbors=6 , p=2)\n",
    "x=features\n",
    "y=labels\n",
    "knn.fit(x,y)"
   ]
  },
  {
   "cell_type": "code",
   "execution_count": 102,
   "metadata": {},
   "outputs": [],
   "source": [
    "from sklearn.model_selection import train_test_split\n",
    "x_train, x_test, y_train, y_test=train_test_split(x,y, test_size=0.33, random_state=30, stratify=y)"
   ]
  },
  {
   "cell_type": "code",
   "execution_count": 103,
   "metadata": {},
   "outputs": [
    {
     "name": "stdout",
     "output_type": "stream",
     "text": [
      "accuracy ==>  0.9841269841269841\n"
     ]
    }
   ],
   "source": [
    "knn=KNeighborsClassifier(n_neighbors=4)\n",
    "a = knn.fit(x_train, y_train)\n",
    "y_predict=knn.predict(x_test)\n",
    "y_predict\n",
    "print('accuracy ==> ',knn.score(x_test, y_test))"
   ]
  },
  {
   "cell_type": "markdown",
   "metadata": {},
   "source": [
    "# II) Decision Tree"
   ]
  },
  {
   "cell_type": "code",
   "execution_count": 105,
   "metadata": {},
   "outputs": [
    {
     "data": {
      "text/plain": [
       "DecisionTreeClassifier(class_weight=None, criterion='gini', max_depth=None,\n",
       "            max_features=None, max_leaf_nodes=None,\n",
       "            min_impurity_decrease=0.0, min_impurity_split=None,\n",
       "            min_samples_leaf=1, min_samples_split=2,\n",
       "            min_weight_fraction_leaf=0.0, presort=False, random_state=None,\n",
       "            splitter='best')"
      ]
     },
     "execution_count": 105,
     "metadata": {},
     "output_type": "execute_result"
    }
   ],
   "source": [
    "from sklearn.model_selection import train_test_split \n",
    "from sklearn.tree import DecisionTreeClassifier \n",
    "X = features\n",
    "y = labels\n",
    "X_train, X_test, y_train, y_test = train_test_split(X, y, test_size=0.33,random_state=25) \n",
    "dt = DecisionTreeClassifier()  \n",
    "dt.fit(X_train, y_train)\n"
   ]
  },
  {
   "cell_type": "code",
   "execution_count": 106,
   "metadata": {},
   "outputs": [
    {
     "name": "stdout",
     "output_type": "stream",
     "text": [
      "accuracy ==>  0.9047619047619048\n"
     ]
    }
   ],
   "source": [
    "y_predict=dt.predict(X_test)\n",
    "y_predict\n",
    "print('accuracy ==> ',dt.score(X_test, y_test))"
   ]
  },
  {
   "cell_type": "markdown",
   "metadata": {},
   "source": [
    "# Accuracy (Method 2)"
   ]
  },
  {
   "cell_type": "code",
   "execution_count": 54,
   "metadata": {},
   "outputs": [],
   "source": [
    "y_pred = dt.predict(X_test)  "
   ]
  },
  {
   "cell_type": "code",
   "execution_count": 55,
   "metadata": {},
   "outputs": [
    {
     "name": "stdout",
     "output_type": "stream",
     "text": [
      "              precision    recall  f1-score   support\n",
      "\n",
      "     english       0.92      0.86      0.89        14\n",
      "      french       0.93      0.87      0.90        15\n",
      "      german       0.91      0.91      0.91        11\n",
      "     spanish       0.88      0.96      0.92        23\n",
      "\n",
      "   micro avg       0.90      0.90      0.90        63\n",
      "   macro avg       0.91      0.90      0.90        63\n",
      "weighted avg       0.91      0.90      0.90        63\n",
      "\n"
     ]
    }
   ],
   "source": [
    "from sklearn.metrics import classification_report \n",
    "print(classification_report(y_test, y_pred))  "
   ]
  },
  {
   "cell_type": "markdown",
   "metadata": {},
   "source": [
    "# III) Naive Bayes"
   ]
  },
  {
   "cell_type": "code",
   "execution_count": 56,
   "metadata": {},
   "outputs": [],
   "source": [
    "from sklearn.model_selection import train_test_split\n",
    "X = features\n",
    "y = labels\n",
    "X_train, X_test, y_train, y_test = train_test_split(X, y, test_size=0.33, random_state=0)  "
   ]
  },
  {
   "cell_type": "code",
   "execution_count": 57,
   "metadata": {},
   "outputs": [],
   "source": [
    "from sklearn.naive_bayes import MultinomialNB\n",
    "\n",
    "mb = MultinomialNB().fit(X_train, y_train)  \n"
   ]
  },
  {
   "cell_type": "code",
   "execution_count": 59,
   "metadata": {},
   "outputs": [
    {
     "name": "stdout",
     "output_type": "stream",
     "text": [
      "accuracy ==> 0.9682539682539683\n"
     ]
    }
   ],
   "source": [
    "y_predict=mb.predict(X_test)\n",
    "y_predict\n",
    "print('accuracy ==>',mb.score(X_test, y_test))"
   ]
  },
  {
   "cell_type": "markdown",
   "metadata": {},
   "source": [
    "# Naive Bayes (Method 2)\n"
   ]
  },
  {
   "cell_type": "code",
   "execution_count": 9,
   "metadata": {},
   "outputs": [],
   "source": [
    "from sklearn.model_selection import train_test_split\n",
    "from sklearn.feature_extraction.text import CountVectorizer\n",
    "from sklearn.feature_extraction.text import TfidfTransformer\n",
    "from sklearn.naive_bayes import MultinomialNB\n",
    "X_train, X_test, y_train, y_test = train_test_split(data['matn'], data['lang'], random_state = 0)\n",
    "#X_train ==> Matn , y_train ==> lang\n",
    "count_vect = CountVectorizer()\n",
    "X_train_counts = count_vect.fit_transform(X_train)\n",
    "tfidf_transformer = TfidfTransformer()\n",
    "X_train_tfidf = tfidf_transformer.fit_transform(X_train_counts)\n",
    "clf = MultinomialNB().fit(X_train_tfidf, y_train)"
   ]
  },
  {
   "cell_type": "code",
   "execution_count": 10,
   "metadata": {},
   "outputs": [],
   "source": [
    "from sklearn.model_selection import cross_val_score\n",
    "models = [MultinomialNB()]\n",
    "CV = 5\n",
    "cv_df = pd.DataFrame(index=range(CV * len(models)))\n",
    "entries = []\n",
    "for model in models:\n",
    "  model_name = model.__class__.__name__\n",
    "  accuracies = cross_val_score(model, features, labels, scoring='accuracy', cv=CV)\n",
    "  for fold_idx, accuracy in enumerate(accuracies):\n",
    "    entries.append((model_name, fold_idx, accuracy))\n",
    "cv_df = pd.DataFrame(entries, columns=['model_name', 'fold_idx', 'accuracy'])\n",
    "\n"
   ]
  },
  {
   "cell_type": "code",
   "execution_count": 11,
   "metadata": {},
   "outputs": [
    {
     "data": {
      "text/plain": [
       "model_name\n",
       "MultinomialNB    0.951568\n",
       "Name: accuracy, dtype: float64"
      ]
     },
     "execution_count": 11,
     "metadata": {},
     "output_type": "execute_result"
    }
   ],
   "source": [
    "cv_df.groupby('model_name').accuracy.mean()"
   ]
  },
  {
   "cell_type": "code",
   "execution_count": 14,
   "metadata": {},
   "outputs": [
    {
     "name": "stdout",
     "output_type": "stream",
     "text": [
      "['english']\n"
     ]
    }
   ],
   "source": [
    "print(clf.predict(count_vect.transform([\"hi my name is amirreza nakhjavani\"])))"
   ]
  },
  {
   "cell_type": "code",
   "execution_count": 15,
   "metadata": {},
   "outputs": [
    {
     "name": "stdout",
     "output_type": "stream",
     "text": [
      "['french']\n"
     ]
    }
   ],
   "source": [
    "print(clf.predict(count_vect.transform([\"Seul pays au monde à exercer sa souveraineté sur des territoires répartis sur trois océans et deux continents\"])))"
   ]
  },
  {
   "cell_type": "code",
   "execution_count": 12,
   "metadata": {},
   "outputs": [
    {
     "name": "stdout",
     "output_type": "stream",
     "text": [
      "['english']\n"
     ]
    }
   ],
   "source": [
    "print(clf.predict(count_vect.transform([\"This company refuses to provide me verification and validation of debt per my right under the FDCPA. I do not believe this debt is mine.\"])))"
   ]
  },
  {
   "cell_type": "code",
   "execution_count": 13,
   "metadata": {},
   "outputs": [
    {
     "name": "stdout",
     "output_type": "stream",
     "text": [
      "['german']\n"
     ]
    }
   ],
   "source": [
    "print(clf.predict(count_vect.transform([\"Die Französische Republik wird in ihrer Verfassung als unteilbar, laizistisch, demokratisch und sozial erklärt\"])))"
   ]
  },
  {
   "cell_type": "code",
   "execution_count": 16,
   "metadata": {},
   "outputs": [
    {
     "name": "stdout",
     "output_type": "stream",
     "text": [
      "['spanish']\n"
     ]
    }
   ],
   "source": [
    "print(clf.predict(count_vect.transform([\"Francia es la sexta economía mundial (2018) con una muy elevada difusión cultural en el contexto internacional\"])))"
   ]
  },
  {
   "cell_type": "code",
   "execution_count": 104,
   "metadata": {},
   "outputs": [
    {
     "name": "stdout",
     "output_type": "stream",
     "text": [
      "['english']\n"
     ]
    }
   ],
   "source": [
    "print(clf.predict(count_vect.transform([\"we leaning machine larnign in the class\"])))"
   ]
  },
  {
   "cell_type": "code",
   "execution_count": null,
   "metadata": {},
   "outputs": [],
   "source": []
  }
 ],
 "metadata": {
  "kernelspec": {
   "display_name": "Python 3",
   "language": "python",
   "name": "python3"
  },
  "language_info": {
   "codemirror_mode": {
    "name": "ipython",
    "version": 3
   },
   "file_extension": ".py",
   "mimetype": "text/x-python",
   "name": "python",
   "nbconvert_exporter": "python",
   "pygments_lexer": "ipython3",
   "version": "3.6.3"
  }
 },
 "nbformat": 4,
 "nbformat_minor": 2
}
